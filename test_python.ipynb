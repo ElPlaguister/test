{
    "cells": [
        {
            "cell_type": "code",
            "execution_count": 8,
            "source": [
                "import bs4"
            ],
            "outputs": [],
            "metadata": {}
        },
        {
            "cell_type": "code",
            "execution_count": 9,
            "source": [
                "soup = bs4.BeautifulSoup()"
            ],
            "outputs": [],
            "metadata": {}
        }
    ],
    "metadata": {
        "orig_nbformat": 4,
        "language_info": {
            "name": "python",
            "version": "3.9.0",
            "mimetype": "text/x-python",
            "codemirror_mode": {
                "name": "ipython",
                "version": 3
            },
            "pygments_lexer": "ipython3",
            "nbconvert_exporter": "python",
            "file_extension": ".py"
        },
        "kernelspec": {
            "name": "python3",
            "display_name": "Python 3.9.0 64-bit ('myenv': conda)"
        },
        "interpreter": {
            "hash": "2e165846ff116b8adeb4f326f1aef0323b066b1a9921feb59d8d3c91d647cdb0"
        }
    },
    "nbformat": 4,
    "nbformat_minor": 2
}